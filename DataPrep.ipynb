{
 "cells": [
  {
   "cell_type": "code",
   "execution_count": 24,
   "metadata": {},
   "outputs": [],
   "source": [
    "import pandas as pd\n",
    "import numpy as np\n",
    "import requests\n",
    "import json"
   ]
  },
  {
   "cell_type": "code",
   "execution_count": 9,
   "metadata": {},
   "outputs": [],
   "source": [
    "link = 'https://covid.ourworldindata.org/data/full_data.csv'\n",
    "#link2 = './data/[World Health Organization] COVID-19-Database-Files-2020.03.13/CSV as at 13 March 2020.csv'\n",
    "\n",
    "case = pd.read_csv(link)\n",
    "#who = pd.read_csv(link2)"
   ]
  },
  {
   "cell_type": "code",
   "execution_count": 8,
   "metadata": {},
   "outputs": [
    {
     "data": {
      "text/plain": [
       "date               0\n",
       "location           0\n",
       "new_cases        160\n",
       "new_deaths      2327\n",
       "total_cases        0\n",
       "total_deaths    2280\n",
       "dtype: int64"
      ]
     },
     "execution_count": 8,
     "metadata": {},
     "output_type": "execute_result"
    }
   ],
   "source": [
    "case.isna().sum()"
   ]
  },
  {
   "cell_type": "code",
   "execution_count": 29,
   "metadata": {},
   "outputs": [
    {
     "name": "stdout",
     "output_type": "stream",
     "text": [
      "Response content is not in JSON format.\n"
     ]
    }
   ],
   "source": [
    "r = requests.get('https://api.coronatracker.com/')\n",
    "\n",
    "# to check whether the API is in json format\n",
    "if 'json' in r.headers.get('Content-Type'):\n",
    "    js = r.json()\n",
    "else:\n",
    "    print('Response content is not in JSON format.')\n",
    "    js = 'spam'\n",
    "    \n"
   ]
  },
  {
   "cell_type": "code",
   "execution_count": null,
   "metadata": {},
   "outputs": [],
   "source": []
  }
 ],
 "metadata": {
  "kernelspec": {
   "display_name": "Python 3",
   "language": "python",
   "name": "python3"
  },
  "language_info": {
   "codemirror_mode": {
    "name": "ipython",
    "version": 3
   },
   "file_extension": ".py",
   "mimetype": "text/x-python",
   "name": "python",
   "nbconvert_exporter": "python",
   "pygments_lexer": "ipython3",
   "version": "3.8.2"
  }
 },
 "nbformat": 4,
 "nbformat_minor": 4
}
